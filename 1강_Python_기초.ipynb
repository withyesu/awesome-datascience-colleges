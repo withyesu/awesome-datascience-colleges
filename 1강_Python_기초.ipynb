{
  "nbformat": 4,
  "nbformat_minor": 0,
  "metadata": {
    "kernelspec": {
      "display_name": "Python 3",
      "language": "python",
      "name": "python3"
    },
    "language_info": {
      "codemirror_mode": {
        "name": "ipython",
        "version": 3
      },
      "file_extension": ".py",
      "mimetype": "text/x-python",
      "name": "python",
      "nbconvert_exporter": "python",
      "pygments_lexer": "ipython3",
      "version": "3.7.9"
    },
    "colab": {
      "provenance": [],
      "include_colab_link": true
    }
  },
  "cells": [
    {
      "cell_type": "markdown",
      "metadata": {
        "id": "view-in-github",
        "colab_type": "text"
      },
      "source": [
        "<a href=\"https://colab.research.google.com/github/withyesu/awesome-datascience-colleges/blob/master/1%E1%84%80%E1%85%A1%E1%86%BC_Python_%EA%B8%B0%EC%B4%88.ipynb\" target=\"_parent\"><img src=\"https://colab.research.google.com/assets/colab-badge.svg\" alt=\"Open In Colab\"/></a>"
      ]
    },
    {
      "cell_type": "markdown",
      "metadata": {
        "id": "ubqdvbUaDbGG"
      },
      "source": [
        "# 1강 - Python 기초"
      ]
    },
    {
      "cell_type": "code",
      "source": [],
      "metadata": {
        "id": "U1PYOwpv1cub"
      },
      "execution_count": null,
      "outputs": []
    },
    {
      "cell_type": "markdown",
      "metadata": {
        "id": "cF_Aqu_sDbGP"
      },
      "source": [
        "**작성자 : AISchool(http://aischool.ai/)*"
      ]
    },
    {
      "cell_type": "markdown",
      "metadata": {
        "id": "0aZfS7EDDbGQ"
      },
      "source": [
        "# 실습 1 – 변수 설정과 Python 기본 문법(print)을 학습해봅시다"
      ]
    },
    {
      "cell_type": "code",
      "metadata": {
        "id": "hD7amVkhDbGR",
        "colab": {
          "base_uri": "https://localhost:8080/"
        },
        "outputId": "d3828ae8-c565-405d-d7e5-e2246ca875c9"
      },
      "source": [
        "삼성전자_주가 = 52000\n",
        "print(삼성전자_주가)"
      ],
      "execution_count": null,
      "outputs": [
        {
          "output_type": "stream",
          "text": [
            "52000\n"
          ],
          "name": "stdout"
        }
      ]
    },
    {
      "cell_type": "code",
      "metadata": {
        "id": "CfhSpcOgDbGS"
      },
      "source": [],
      "execution_count": null,
      "outputs": []
    },
    {
      "cell_type": "code",
      "metadata": {
        "id": "qZlcfKqODbGX",
        "colab": {
          "base_uri": "https://localhost:8080/"
        },
        "outputId": "e7ab57a1-58d0-43ea-f2fb-c3613cf87e65"
      },
      "source": [
        "바나나_가격 = 5000\n",
        "print(바나나_가격)"
      ],
      "execution_count": null,
      "outputs": [
        {
          "output_type": "stream",
          "text": [
            "5000\n"
          ],
          "name": "stdout"
        }
      ]
    },
    {
      "cell_type": "code",
      "metadata": {
        "id": "23tzugvKspag"
      },
      "source": [],
      "execution_count": null,
      "outputs": []
    },
    {
      "cell_type": "code",
      "metadata": {
        "colab": {
          "base_uri": "https://localhost:8080/"
        },
        "id": "odumSFlLrvN1",
        "outputId": "209829b5-efbb-45f3-c2d8-02692648b385"
      },
      "source": [
        "총_구매금액 = 바나나_가격 * 3\n",
        "print(총_구매금액)"
      ],
      "execution_count": null,
      "outputs": [
        {
          "output_type": "stream",
          "text": [
            "15000\n"
          ],
          "name": "stdout"
        }
      ]
    },
    {
      "cell_type": "code",
      "metadata": {
        "id": "PQNLV_hosqCG"
      },
      "source": [],
      "execution_count": null,
      "outputs": []
    },
    {
      "cell_type": "code",
      "metadata": {
        "colab": {
          "base_uri": "https://localhost:8080/"
        },
        "id": "10QS35KlsnJ7",
        "outputId": "bbac78e4-c96a-4657-e63f-71934eab6a24"
      },
      "source": [
        "실업률 = 3.5\n",
        "print(실업률)"
      ],
      "execution_count": null,
      "outputs": [
        {
          "output_type": "stream",
          "text": [
            "3.5\n"
          ],
          "name": "stdout"
        }
      ]
    },
    {
      "cell_type": "markdown",
      "metadata": {
        "id": "2hpBCboar6l2"
      },
      "source": [
        "# 변수이름 생성 규칙"
      ]
    },
    {
      "cell_type": "markdown",
      "metadata": {
        "id": "Yorx_TaEr-YN"
      },
      "source": [
        "\n",
        "\n",
        "1.   변수에 특수문자($,% 등을 사용할 수 없습니다. 다만 _는 사용가능)\n",
        "2.   숫자로 시작하는 변수명을 만들 수 없습니다.\n",
        "3.   공백을 사용할 수 없습니다.\n",
        "4.   대소문자를 구분합니다.\n",
        "5.   예약어(for, if 등)를 사용할 수 없습니다.\n",
        "\n"
      ]
    },
    {
      "cell_type": "code",
      "metadata": {
        "colab": {
          "base_uri": "https://localhost:8080/",
          "height": 132
        },
        "id": "IHTCT0KAsQXM",
        "outputId": "baacfc8e-1929-47eb-a327-c9d6e7614bd0"
      },
      "source": [
        "$$변수이름 = 22\n"
      ],
      "execution_count": null,
      "outputs": [
        {
          "output_type": "error",
          "ename": "SyntaxError",
          "evalue": "ignored",
          "traceback": [
            "\u001b[0;36m  File \u001b[0;32m\"<ipython-input-10-8002e0c78243>\"\u001b[0;36m, line \u001b[0;32m1\u001b[0m\n\u001b[0;31m    $$변수이름 = 22\u001b[0m\n\u001b[0m    ^\u001b[0m\n\u001b[0;31mSyntaxError\u001b[0m\u001b[0;31m:\u001b[0m invalid syntax\n"
          ]
        }
      ]
    },
    {
      "cell_type": "code",
      "metadata": {
        "colab": {
          "base_uri": "https://localhost:8080/",
          "height": 132
        },
        "id": "82aVfilhr2EZ",
        "outputId": "20243bd6-996f-4f0c-ddb7-bb2ea0018f75"
      },
      "source": [
        "1변수이름 = 35"
      ],
      "execution_count": null,
      "outputs": [
        {
          "output_type": "error",
          "ename": "SyntaxError",
          "evalue": "ignored",
          "traceback": [
            "\u001b[0;36m  File \u001b[0;32m\"<ipython-input-11-fe7298bb5680>\"\u001b[0;36m, line \u001b[0;32m1\u001b[0m\n\u001b[0;31m    1변수이름 = 35\u001b[0m\n\u001b[0m        ^\u001b[0m\n\u001b[0;31mSyntaxError\u001b[0m\u001b[0;31m:\u001b[0m invalid syntax\n"
          ]
        }
      ]
    },
    {
      "cell_type": "code",
      "metadata": {
        "colab": {
          "base_uri": "https://localhost:8080/",
          "height": 132
        },
        "id": "MUZXI0Tur4GL",
        "outputId": "bdf30878-9835-421f-8009-5205413970fa"
      },
      "source": [
        "변수 이름 = 5"
      ],
      "execution_count": null,
      "outputs": [
        {
          "output_type": "error",
          "ename": "SyntaxError",
          "evalue": "ignored",
          "traceback": [
            "\u001b[0;36m  File \u001b[0;32m\"<ipython-input-12-6a266b0c3b23>\"\u001b[0;36m, line \u001b[0;32m1\u001b[0m\n\u001b[0;31m    변수 이름 = 5\u001b[0m\n\u001b[0m        ^\u001b[0m\n\u001b[0;31mSyntaxError\u001b[0m\u001b[0;31m:\u001b[0m invalid syntax\n"
          ]
        }
      ]
    },
    {
      "cell_type": "code",
      "metadata": {
        "colab": {
          "base_uri": "https://localhost:8080/"
        },
        "id": "LjNViie9r19F",
        "outputId": "6dcef021-261b-4aba-8644-72567f34ff32"
      },
      "source": [
        "variable1 = 35\n",
        "Variable1 = 77\n",
        "print(variable1)\n",
        "print(Variable1)"
      ],
      "execution_count": null,
      "outputs": [
        {
          "output_type": "stream",
          "text": [
            "35\n",
            "77\n"
          ],
          "name": "stdout"
        }
      ]
    },
    {
      "cell_type": "code",
      "metadata": {
        "colab": {
          "base_uri": "https://localhost:8080/"
        },
        "id": "NooqHQwDskRS",
        "outputId": "2bbe42e7-f7f1-41ec-d7c0-13ee20cc9983"
      },
      "source": [
        "Variable1 = 27\n",
        "print(Variable1)"
      ],
      "execution_count": null,
      "outputs": [
        {
          "output_type": "stream",
          "text": [
            "27\n"
          ],
          "name": "stdout"
        }
      ]
    },
    {
      "cell_type": "code",
      "metadata": {
        "colab": {
          "base_uri": "https://localhost:8080/",
          "height": 132
        },
        "id": "fCNrj2rTsfgx",
        "outputId": "4136891e-0829-49df-8be8-ddacd4069435"
      },
      "source": [
        "for = 26"
      ],
      "execution_count": null,
      "outputs": [
        {
          "output_type": "error",
          "ename": "SyntaxError",
          "evalue": "ignored",
          "traceback": [
            "\u001b[0;36m  File \u001b[0;32m\"<ipython-input-15-23062b20249f>\"\u001b[0;36m, line \u001b[0;32m1\u001b[0m\n\u001b[0;31m    for = 26\u001b[0m\n\u001b[0m        ^\u001b[0m\n\u001b[0;31mSyntaxError\u001b[0m\u001b[0;31m:\u001b[0m invalid syntax\n"
          ]
        }
      ]
    },
    {
      "cell_type": "code",
      "metadata": {
        "colab": {
          "base_uri": "https://localhost:8080/",
          "height": 132
        },
        "id": "QNumKgg-sc3X",
        "outputId": "1c6cb096-f687-4b47-bc17-83b4a8313b8f"
      },
      "source": [
        "if = 22"
      ],
      "execution_count": null,
      "outputs": [
        {
          "output_type": "error",
          "ename": "SyntaxError",
          "evalue": "ignored",
          "traceback": [
            "\u001b[0;36m  File \u001b[0;32m\"<ipython-input-16-98b701bcfce9>\"\u001b[0;36m, line \u001b[0;32m1\u001b[0m\n\u001b[0;31m    if = 22\u001b[0m\n\u001b[0m       ^\u001b[0m\n\u001b[0;31mSyntaxError\u001b[0m\u001b[0;31m:\u001b[0m invalid syntax\n"
          ]
        }
      ]
    },
    {
      "cell_type": "code",
      "metadata": {
        "id": "6lIUZ3DYsl1T"
      },
      "source": [],
      "execution_count": null,
      "outputs": []
    },
    {
      "cell_type": "code",
      "metadata": {
        "colab": {
          "base_uri": "https://localhost:8080/"
        },
        "id": "XhbQHMGtqjLT",
        "outputId": "8f23a581-a2d7-4940-c8af-740240c05356"
      },
      "source": [],
      "execution_count": null,
      "outputs": [
        {
          "output_type": "stream",
          "text": [
            "3.5\n"
          ],
          "name": "stdout"
        }
      ]
    },
    {
      "cell_type": "markdown",
      "metadata": {
        "id": "neDYmC59DbGc"
      },
      "source": [
        "# 주석(Comment)"
      ]
    },
    {
      "cell_type": "code",
      "metadata": {
        "id": "D3tTxt12DbGc"
      },
      "source": [
        "# 한줄 주석 - 주석 부분에 설명을 작성할 수 있습니다. 아래 변수는 현재 주가의 가격을 나타냅니다.\n",
        "현재_주가 = 5000"
      ],
      "execution_count": null,
      "outputs": []
    },
    {
      "cell_type": "code",
      "metadata": {
        "id": "YW3Eg7bSDbGc"
      },
      "source": [],
      "execution_count": null,
      "outputs": []
    },
    {
      "cell_type": "code",
      "metadata": {
        "id": "chcPJEQ5DbGc"
      },
      "source": [
        "'''\n",
        "여러줄 주석\n",
        "이런 형태로 여러줄 주석을 작성할 수 있습니다.\n",
        "아래 변수는 캠페인 전환율을 나타냅니다.\n",
        "'''\n",
        "캠페인_전환율 = 3.5"
      ],
      "execution_count": null,
      "outputs": []
    },
    {
      "cell_type": "code",
      "metadata": {
        "id": "NFb-kX9bDbGd"
      },
      "source": [],
      "execution_count": null,
      "outputs": []
    }
  ]
}